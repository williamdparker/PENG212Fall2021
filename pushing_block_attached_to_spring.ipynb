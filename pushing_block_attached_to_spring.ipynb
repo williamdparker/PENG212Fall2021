{
 "cells": [
  {
   "cell_type": "markdown",
   "metadata": {
    "collapsed": true,
    "pycharm": {
     "name": "#%% md\n"
    }
   },
   "source": [
    "$m = 10 \\text{ kg}$\n",
    "\n",
    "$k = 500 \\,\\frac{\\text{N}}{\\text{m}}$\n",
    "\n",
    "$\\vec{v}(0) = \\vec{0}$\n",
    "\n",
    "$F_s(0) = 0$\n",
    "\n",
    "$F = 500 \\text{ N}$\n",
    "\n",
    "$\\Sigma \\vec{F} = m \\vec{a}$\n",
    "\n",
    "$\\Sigma F_x = F_s - \\frac{4}{5} F$\n",
    "\n",
    "$F_s = -k s$\n",
    "\n",
    "\n",
    "$\\Rightarrow m a_x(s) = -k s + \\frac{4}{5} F$\n",
    "\n",
    "$\\Rightarrow a_x(s) = -\\frac{k}{m}s + \\frac{4 F}{5 m}$\n",
    "\n",
    "$a ds = v dv$\n",
    "\n",
    "$\\int_{s = 0}^{s = 0.5\\text{ m}} a(s) ds = \\int_{v(s = 0)}^{v(s = 0.5 \\text{ m})} v\\, dv$\n",
    "\n",
    "$\\Rightarrow \\int_{0}^{0.5\\text{ m}} \\left( -\\frac{k}{m}s + \\frac{4 F}{5 m}\\right) ds = \\frac{1}{2} v^2 |_{v(s = 0)}^{v(s = 0.5 m)} $\n",
    "\n",
    "$\\Rightarrow -\\frac{k}{m} \\int_{0}^{0.5\\text{ m}} s\\,ds+\\frac{4 F}{5 m}\\int_0^{0.5\\text{ m}}\\,ds = \\frac{1}{2}v^2(s = 0.5\\text{ m})$\n",
    "\n",
    "$\\Rightarrow -\\frac{k}{m} \\frac{1}{2}s^2|_0^{0.5\\text{ m}} + \\frac{4 F}{5 m} s|_0^{0.5\\text{ m}} = \\frac{1}{2}v^2(s = 0.5\\text{ m})$\n",
    "\n",
    "$\\Rightarrow v^2(s = 0.5\\text{ m}) = -\\frac{k}{m} (0.5\\text{ m})^2 + \\frac{8 F}{5 m} (0.5 \\text{ m})$\n",
    "\n",
    "\\begin{array}\n",
    "\\, \\Rightarrow\n",
    "v(s = 0.5\\text{ m}) &= \\sqrt{-\\frac{k}{m} (0.5\\text{ m})^2 + \\frac{8 F}{5 m} (0.5 \\text{ m})} \\\\\n",
    "                     &= \\sqrt{-\\frac{500 \\frac{\\text{N}}{\\text{m}} }{10\\text{ kg}} \\left( 0.5\\text{ m} \\right)^2 + \\frac{8 (500\\text{ N})}{5 (10\\text{ kg})}(0.5\\text{ m}) }\\\\\n",
    "\\end{array}"
   ]
  },
  {
   "cell_type": "code",
   "execution_count": 1,
   "outputs": [
    {
     "name": "stdout",
     "output_type": "stream",
     "text": [
      "v(s = 0.5 m) = 5.24 m/s\n"
     ]
    }
   ],
   "source": [
    "spring_constant = 500  # N/m\n",
    "mass = 10  # kg\n",
    "position = 0.5  # m\n",
    "pushing_force = 500  # N\n",
    "velocity = ((-spring_constant/mass)*position**2 + (8*pushing_force)*position/(5*mass))**0.5\n",
    "print(f'v(s = 0.5 m) = {velocity:.2f} m/s')\n",
    "\n",
    "\n",
    "\n"
   ],
   "metadata": {
    "collapsed": false,
    "pycharm": {
     "name": "#%%\n"
    }
   }
  }
 ],
 "metadata": {
  "kernelspec": {
   "display_name": "Python 3",
   "language": "python",
   "name": "python3"
  },
  "language_info": {
   "codemirror_mode": {
    "name": "ipython",
    "version": 2
   },
   "file_extension": ".py",
   "mimetype": "text/x-python",
   "name": "python",
   "nbconvert_exporter": "python",
   "pygments_lexer": "ipython2",
   "version": "2.7.6"
  }
 },
 "nbformat": 4,
 "nbformat_minor": 0
}