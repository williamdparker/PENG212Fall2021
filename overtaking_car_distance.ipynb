{
 "cells": [
  {
   "cell_type": "markdown",
   "metadata": {
    "collapsed": true,
    "pycharm": {
     "name": "#%% md\n"
    }
   },
   "source": [
    "$s_{0B} - s_{0A} = d$\n",
    "\n",
    "$s_{fB} - s_{fA} = 0$ (A and B collide at $t_f$)\n",
    "\n",
    "$v_{fA} - v_{fB} = 0$ (A cannot overtake B at $t_f$)\n",
    "\n",
    "$v_{0B} = v_{0A} = 60 \\,\\textrm{ft}/\\textrm{s} \\equiv v_0$\n",
    "\n",
    "$a_{B} = -10 \\,\\textrm{ft}/\\textrm{s}^2$\n",
    "\n",
    "$a_{A} = -18 \\,\\textrm{ft}/\\textrm{s}^2$\n",
    "\n",
    "$t_{c} = 0.75 \\,\\textrm{s}$\n",
    "\n",
    "$s_{cA} = s_{0A} + v_{0A} t_c$ (A has constant velocity during $\\,0 < t < t_c$)\n",
    "\n",
    "### Constant acceleration position equations:\n",
    "\\begin{align}\n",
    "\\,s_{fB} &= s_{0B} + v_{0B} t_f + \\frac{1}{2} a_B t_f^2 \\\\\n",
    "s_{fA} &= s_{cA} + v_{cA} (t_f-t_c) + \\frac{1}{2} a_A (t_f-t_c)^2 \\\\\n",
    "\\end{align}\n",
    "\n",
    "### Subtract them\n",
    "$s_{fB} - s_{fA} = 0 =\n",
    "s_{0B} - (s_{0A} + v_{0A} t_c) + v_{0A} t_c + (v_{0B} - v_{0A}) t_f + \\frac{1}{2} (a_B - a_A) t_f^2 + a_A t_f t_c - \\frac{1}{2}a_A t_c^2$\n",
    "\n",
    "$\\rightarrow \\frac{1}{2} (a_B - a_A) t_f^2 + (v_{0B} - v_{0A} + a_{A} t_c) t_f + (s_{0B} - s_{0A} + \\frac{1}{2} a_A t_c^2) = 0$\n",
    "\n",
    "$\\rightarrow \\frac{1}{2} (a_B - a_A) t_f^2 + a_{A} t_c t_f + (d - \\frac{1}{2} a_A t_c^2) = 0$\n",
    "\n",
    "Two remaining unknowns: $t_f$ and $d$\n",
    "\n",
    "### Constant acceleration velocity equations\n",
    "\\begin{align}\n",
    "\\,v_{fB} &= v_{0B} + a_B t_f \\\\\n",
    "v_{fA} &= v_{cA} + a_{A} (t_f-t_c) \\\\\n",
    "\\end{align}\n",
    "\n",
    "### Subtract them\n",
    "$v_{fB} - v_{fA} = 0 = (a_B - a_A) t_f + a_A t_c$\n",
    "\n",
    "$\\rightarrow t_f = \\frac{-a_A t_c}{a_B - a_A}$\n",
    "\n",
    "### Replace $t_f$ in first equation\n",
    "\n",
    "$\\frac{1}{2} (a_B - a_A)  \\left(\\frac{-a_A t_c}{a_B - a_A}\\right)^2 + a_{A} t_c \\left(\\frac{-a_A t_c}{a_B - a_A}\\right) + (d - \\frac{1}{2} a_A t_c^2) = 0 $\n",
    "\n",
    "$\\Rightarrow d = -\\frac{1}{2} \\frac{(-a_A t_c)^2}{a_B - a_A} + \\frac{(a_A t_c)^2}{a_B - a_A} + \\frac{1}{2} a_A t_c^2 = \\frac{1}{2} \\left(\\frac{a_A}{a_B - a_A} + 1 \\right) a_A t_c^2$"
   ]
  },
  {
   "cell_type": "code",
   "execution_count": 12,
   "outputs": [
    {
     "name": "stdout",
     "output_type": "stream",
     "text": [
      "a_B - a_A = 8 ft/s^2\n",
      "a_A t_c = -13.5 ft/s\n",
      "d = 6.33 ft\n"
     ]
    }
   ],
   "source": [
    "acceleration_a = -18\n",
    "acceleration_b = -10\n",
    "acceleration_difference = acceleration_b - acceleration_a\n",
    "print(f'a_B - a_A = {acceleration_difference} ft/s^2')\n",
    "change_time = 0.75\n",
    "velocity_offset = acceleration_a*change_time\n",
    "print(f'a_A t_c = {velocity_offset} ft/s')\n",
    "distance = 0.5 * (acceleration_a/acceleration_difference + 1.) * velocity_offset * change_time\n",
    "print(f'd = {distance:0.2f} ft')"
   ],
   "metadata": {
    "collapsed": false,
    "pycharm": {
     "name": "#%%\n"
    }
   }
  }
 ],
 "metadata": {
  "kernelspec": {
   "display_name": "Python 3",
   "language": "python",
   "name": "python3"
  },
  "language_info": {
   "codemirror_mode": {
    "name": "ipython",
    "version": 2
   },
   "file_extension": ".py",
   "mimetype": "text/x-python",
   "name": "python",
   "nbconvert_exporter": "python",
   "pygments_lexer": "ipython2",
   "version": "2.7.6"
  }
 },
 "nbformat": 4,
 "nbformat_minor": 0
}
